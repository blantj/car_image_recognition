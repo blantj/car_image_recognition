{
  "nbformat": 4,
  "nbformat_minor": 0,
  "metadata": {
    "colab": {
      "name": "Modeling.ipynb",
      "provenance": [],
      "collapsed_sections": [],
      "toc_visible": true,
      "machine_shape": "hm",
      "include_colab_link": true
    },
    "kernelspec": {
      "name": "python3",
      "display_name": "Python 3"
    },
    "accelerator": "GPU"
  },
  "cells": [
    {
      "cell_type": "markdown",
      "metadata": {
        "id": "view-in-github",
        "colab_type": "text"
      },
      "source": [
        "<a href=\"https://colab.research.google.com/github/blantj/car_image_recognition/blob/main/Modeling.ipynb\" target=\"_parent\"><img src=\"https://colab.research.google.com/assets/colab-badge.svg\" alt=\"Open In Colab\"/></a>"
      ]
    },
    {
      "cell_type": "markdown",
      "metadata": {
        "id": "e_78kZvMcf-L"
      },
      "source": [
        "# Import Libraries"
      ]
    },
    {
      "cell_type": "code",
      "metadata": {
        "id": "pxSK9IFO6fSm",
        "colab": {
          "base_uri": "https://localhost:8080/"
        },
        "outputId": "01333669-79d5-43e5-a8ff-72cf70aea6ee"
      },
      "source": [
        "import os\n",
        "import shutil\n",
        "import numpy as np\n",
        "!pip install split_folders\n",
        "import splitfolders\n",
        "from keras.preprocessing.image import ImageDataGenerator\n",
        "import scipy.io\n",
        "import matplotlib.pyplot as plt\n",
        "import seaborn as sns\n",
        "import pandas as pd\n",
        "from keras.callbacks import EarlyStopping\n",
        "from keras import models, layers\n",
        "from keras import optimizers, losses\n",
        "from keras.applications import DenseNet121, Xception\n",
        "from tensorflow.keras.models import Model"
      ],
      "execution_count": 82,
      "outputs": [
        {
          "output_type": "stream",
          "text": [
            "Requirement already satisfied: split_folders in /usr/local/lib/python3.6/dist-packages (0.4.3)\n"
          ],
          "name": "stdout"
        }
      ]
    },
    {
      "cell_type": "markdown",
      "metadata": {
        "id": "VXqo_A-ocfgO"
      },
      "source": [
        "# Obtain Data"
      ]
    },
    {
      "cell_type": "markdown",
      "metadata": {
        "id": "qeVSGEBMh1Nf"
      },
      "source": [
        "Mount Google Drive"
      ]
    },
    {
      "cell_type": "code",
      "metadata": {
        "id": "Wy5Qbefbhy0h",
        "outputId": "a4935583-59a5-42dc-ea30-5ff5dd71d91b",
        "colab": {
          "base_uri": "https://localhost:8080/"
        }
      },
      "source": [
        "from google.colab import drive\n",
        "drive.mount('/content/drive')"
      ],
      "execution_count": 83,
      "outputs": [
        {
          "output_type": "stream",
          "text": [
            "Drive already mounted at /content/drive; to attempt to forcibly remount, call drive.mount(\"/content/drive\", force_remount=True).\n"
          ],
          "name": "stdout"
        }
      ]
    },
    {
      "cell_type": "markdown",
      "metadata": {
        "id": "kPBQTQN4cqqg"
      },
      "source": [
        "Unzip car image recognition dataset files"
      ]
    },
    {
      "cell_type": "code",
      "metadata": {
        "id": "TScAapxdZPe7"
      },
      "source": [
        "!tar --gunzip --extract --verbose --file=/content/drive/MyDrive/Car_image_recognition/car_devkit.tgz\n",
        "!tar --gunzip --extract --verbose --file=/content/drive/MyDrive/Car_image_recognition/cars_test.tgz\n",
        "!tar --gunzip --extract --verbose --file=/content/drive/MyDrive/Car_image_recognition/cars_train.tgz"
      ],
      "execution_count": null,
      "outputs": []
    },
    {
      "cell_type": "markdown",
      "metadata": {
        "id": "NCq_9UFZQn1k"
      },
      "source": [
        "# Scrub Data"
      ]
    },
    {
      "cell_type": "markdown",
      "metadata": {
        "id": "YDLNCzO3lunK"
      },
      "source": [
        "Split image files into seperate folders for each class\n"
      ]
    },
    {
      "cell_type": "code",
      "metadata": {
        "id": "inEVt-GTluN4",
        "outputId": "130be84a-f2b9-4c64-af12-bc0c630953de",
        "colab": {
          "base_uri": "https://localhost:8080/",
          "height": 232
        }
      },
      "source": [
        "os.mkdir(f'/content/cars_train/pre-split/')\n",
        "for num in range(1,197):\n",
        "  os.mkdir(f'/content/cars_train/pre-split/{num}')\n",
        "\n",
        "annotations = scipy.io.loadmat('/content/devkit/cars_train_annos.mat')['annotations'][0]\n",
        "for index, annotation in enumerate(annotations):\n",
        "  im_class = annotation[4][0][0]\n",
        "  im_name = str(index+1).zfill(5) + '.jpg'\n",
        "  shutil.move(f'/content/cars_train/{im_name}', f'/content/cars_train/pre-split/{im_class}/{im_name}')\n"
      ],
      "execution_count": 85,
      "outputs": [
        {
          "output_type": "error",
          "ename": "FileExistsError",
          "evalue": "ignored",
          "traceback": [
            "\u001b[0;31m---------------------------------------------------------------------------\u001b[0m",
            "\u001b[0;31mFileExistsError\u001b[0m                           Traceback (most recent call last)",
            "\u001b[0;32m<ipython-input-85-661032e17328>\u001b[0m in \u001b[0;36m<module>\u001b[0;34m()\u001b[0m\n\u001b[0;32m----> 1\u001b[0;31m \u001b[0mos\u001b[0m\u001b[0;34m.\u001b[0m\u001b[0mmkdir\u001b[0m\u001b[0;34m(\u001b[0m\u001b[0;34mf'/content/cars_train/pre-split/'\u001b[0m\u001b[0;34m)\u001b[0m\u001b[0;34m\u001b[0m\u001b[0;34m\u001b[0m\u001b[0m\n\u001b[0m\u001b[1;32m      2\u001b[0m \u001b[0;32mfor\u001b[0m \u001b[0mnum\u001b[0m \u001b[0;32min\u001b[0m \u001b[0mrange\u001b[0m\u001b[0;34m(\u001b[0m\u001b[0;36m1\u001b[0m\u001b[0;34m,\u001b[0m\u001b[0;36m197\u001b[0m\u001b[0;34m)\u001b[0m\u001b[0;34m:\u001b[0m\u001b[0;34m\u001b[0m\u001b[0;34m\u001b[0m\u001b[0m\n\u001b[1;32m      3\u001b[0m   \u001b[0mos\u001b[0m\u001b[0;34m.\u001b[0m\u001b[0mmkdir\u001b[0m\u001b[0;34m(\u001b[0m\u001b[0;34mf'/content/cars_train/pre-split/{num}'\u001b[0m\u001b[0;34m)\u001b[0m\u001b[0;34m\u001b[0m\u001b[0;34m\u001b[0m\u001b[0m\n\u001b[1;32m      4\u001b[0m \u001b[0;34m\u001b[0m\u001b[0m\n\u001b[1;32m      5\u001b[0m \u001b[0mannotations\u001b[0m \u001b[0;34m=\u001b[0m \u001b[0mscipy\u001b[0m\u001b[0;34m.\u001b[0m\u001b[0mio\u001b[0m\u001b[0;34m.\u001b[0m\u001b[0mloadmat\u001b[0m\u001b[0;34m(\u001b[0m\u001b[0;34m'/content/devkit/cars_train_annos.mat'\u001b[0m\u001b[0;34m)\u001b[0m\u001b[0;34m[\u001b[0m\u001b[0;34m'annotations'\u001b[0m\u001b[0;34m]\u001b[0m\u001b[0;34m[\u001b[0m\u001b[0;36m0\u001b[0m\u001b[0;34m]\u001b[0m\u001b[0;34m\u001b[0m\u001b[0;34m\u001b[0m\u001b[0m\n",
            "\u001b[0;31mFileExistsError\u001b[0m: [Errno 17] File exists: '/content/cars_train/pre-split/'"
          ]
        }
      ]
    },
    {
      "cell_type": "markdown",
      "metadata": {
        "id": "8igEVjkmEgcl"
      },
      "source": [
        "Split dataset into train, test and validation folders"
      ]
    },
    {
      "cell_type": "code",
      "metadata": {
        "id": "HMH5zCsXEglZ"
      },
      "source": [
        "input_folder = '/content/cars_train/pre-split'\n",
        "output_folder = '/content/cars_train/post-split'\n",
        "\n",
        "splitfolders.ratio(input_folder, output=output_folder, seed=37, ratio=(.64, .2, .16))"
      ],
      "execution_count": null,
      "outputs": []
    },
    {
      "cell_type": "markdown",
      "metadata": {
        "id": "IP0oh3KfEgtC"
      },
      "source": [
        "Count number of images in training, test and val sets"
      ]
    },
    {
      "cell_type": "code",
      "metadata": {
        "id": "sbT7oZ2EEg5_"
      },
      "source": [
        "train_folder = '/content/cars_train/post-split/train'\n",
        "test_folder = '/content/cars_train/post-split/test'\n",
        "val_folder = '/content/cars_train/post-split/val'\n",
        "\n",
        "train_imgs = []\n",
        "test_imgs = []\n",
        "val_imgs = []\n",
        "\n",
        "\n",
        "for img_class in range(1,197):\n",
        "  train_imgs.extend([file for file in os.listdir(train_folder+'/'+str(img_class)) if file.endswith('.jpg')])\n",
        "  test_imgs.extend([file for file in os.listdir(test_folder+'/'+str(img_class)) if file.endswith('.jpg')])\n",
        "  val_imgs.extend([file for file in os.listdir(val_folder+'/'+str(img_class)) if file.endswith('.jpg')]) \n",
        "\n",
        "train_batch_size = len(train_imgs)\n",
        "test_batch_size = len(test_imgs)\n",
        "val_batch_size = len(val_imgs)\n",
        "\n",
        "print('Train batch size:', train_batch_size)\n",
        "print('Test batch size:', test_batch_size)\n",
        "print('Val batch size:', val_batch_size)"
      ],
      "execution_count": null,
      "outputs": []
    },
    {
      "cell_type": "markdown",
      "metadata": {
        "id": "zA3_OP_11hN3"
      },
      "source": [
        "Generate image data from .jpg files"
      ]
    },
    {
      "cell_type": "code",
      "metadata": {
        "id": "GNNoppP-XZB8"
      },
      "source": [
        "train_generator = ImageDataGenerator().flow_from_directory(\n",
        "                        train_folder, target_size=(224, 224), batch_size = train_batch_size)\n",
        "\n",
        "test_generator = ImageDataGenerator().flow_from_directory(\n",
        "                        test_folder, target_size=(224, 224), batch_size = test_batch_size) \n",
        "\n",
        "val_generator = ImageDataGenerator().flow_from_directory(\n",
        "                        val_folder, target_size=(224, 224), batch_size = val_batch_size) "
      ],
      "execution_count": null,
      "outputs": []
    },
    {
      "cell_type": "markdown",
      "metadata": {
        "id": "oDW_HYRRLhNl"
      },
      "source": [
        "Split image data into image and label variables"
      ]
    },
    {
      "cell_type": "code",
      "metadata": {
        "id": "kat1brd9bDYp"
      },
      "source": [
        "train_images, train_labels = next(train_generator)\n",
        "test_images, test_labels = next(test_generator)\n",
        "val_images, val_labels = next(val_generator)"
      ],
      "execution_count": null,
      "outputs": []
    },
    {
      "cell_type": "markdown",
      "metadata": {
        "id": "WnZj5BjDN7H5"
      },
      "source": [
        "# Explore Data"
      ]
    },
    {
      "cell_type": "markdown",
      "metadata": {
        "id": "i5_ol2bRN83N"
      },
      "source": [
        "Calculate shape of train, test and val image sets"
      ]
    },
    {
      "cell_type": "code",
      "metadata": {
        "colab": {
          "base_uri": "https://localhost:8080/"
        },
        "id": "gRUQKrgdl5Jm",
        "outputId": "05ccc23e-c228-4da7-f817-40614603f5cc"
      },
      "source": [
        "print('Train images shape: ', train_images.shape)\n",
        "print('Test images shape: ', test_images.shape)\n",
        "print('Val images shape: ', val_images.shape)"
      ],
      "execution_count": 86,
      "outputs": [
        {
          "output_type": "stream",
          "text": [
            "Train images shape:  (5108, 224, 224, 3)\n",
            "Test images shape:  (1490, 224, 224, 3)\n",
            "Val images shape:  (1546, 224, 224, 3)\n"
          ],
          "name": "stdout"
        }
      ]
    },
    {
      "cell_type": "markdown",
      "metadata": {
        "id": "fohtRcbLQRov"
      },
      "source": [
        "Calculate shape of train, test and val labels sets"
      ]
    },
    {
      "cell_type": "code",
      "metadata": {
        "id": "Mk3jZM0GmcfE",
        "colab": {
          "base_uri": "https://localhost:8080/"
        },
        "outputId": "379cb42a-f5a4-4ea9-f9a2-fd534cb93811"
      },
      "source": [
        "print('Train labels shape: ', train_labels.shape)\n",
        "print('Test labels shape: ', test_labels.shape)\n",
        "print('Val labels shape: ', val_labels.shape)"
      ],
      "execution_count": 87,
      "outputs": [
        {
          "output_type": "stream",
          "text": [
            "Train labels shape:  (5108, 196)\n",
            "Test labels shape:  (1490, 196)\n",
            "Val labels shape:  (1546, 196)\n"
          ],
          "name": "stdout"
        }
      ]
    },
    {
      "cell_type": "markdown",
      "metadata": {
        "id": "3EnqD8WOQZIj"
      },
      "source": [
        "Calculate class balance"
      ]
    },
    {
      "cell_type": "code",
      "metadata": {
        "id": "bYYk2v_8rtT8",
        "colab": {
          "base_uri": "https://localhost:8080/",
          "height": 876
        },
        "outputId": "ddc6075c-daec-4acc-9c3f-7ee726de5a2e"
      },
      "source": [
        "im_classes = []\n",
        "for image in scipy.io.loadmat('/content/devkit/cars_train_annos.mat')['annotations'][0]:\n",
        "  im_classes.append(image[4][0][0])\n",
        "class_df = pd.DataFrame(data=im_classes, columns=['Class'])\n",
        "\n",
        "print(class_df.reset_index().groupby('Class').count()['index'].sort_values(ascending=False))\n",
        "print('Average Class Size', (train_batch_size+test_batch_size+val_batch_size)/196)\n",
        "\n",
        "fig, ax = plt.subplots(figsize=(10,10))\n",
        "sns.countplot(data=class_df, x='Class', ax=ax)\n",
        "ax.set_title('Car Image Class Distribution', fontsize=20)\n",
        "ax.set_xlabel('Class', fontsize=15)\n",
        "ax.set_ylabel('Count', fontsize=15)\n",
        "ax.set_xticklabels(labels=[])"
      ],
      "execution_count": 88,
      "outputs": [
        {
          "output_type": "stream",
          "text": [
            "Class\n",
            "119    68\n",
            "79     49\n",
            "161    48\n",
            "167    48\n",
            "56     47\n",
            "       ..\n",
            "175    31\n",
            "64     30\n",
            "158    29\n",
            "99     28\n",
            "136    24\n",
            "Name: index, Length: 196, dtype: int64\n",
            "Average Class Size 41.55102040816327\n"
          ],
          "name": "stdout"
        },
        {
          "output_type": "execute_result",
          "data": {
            "text/plain": [
              "[]"
            ]
          },
          "metadata": {
            "tags": []
          },
          "execution_count": 88
        },
        {
          "output_type": "display_data",
          "data": {
            "image/png": "[encoded data removed]",
            "text/plain": [
              "<Figure size 720x720 with 1 Axes>"
            ]
          },
          "metadata": {
            "tags": [],
            "needs_background": "light"
          }
        }
      ]
    },
    {
      "cell_type": "markdown",
      "metadata": {
        "id": "iiIxnGM-WA0X"
      },
      "source": [
        "# Model Data"
      ]
    },
    {
      "cell_type": "markdown",
      "metadata": {
        "id": "5UAZc9FzhEkG"
      },
      "source": [
        "Build neural network in Keras"
      ]
    },
    {
      "cell_type": "code",
      "metadata": {
        "id": "c5MBkldFy90S"
      },
      "source": [
        "model = models.Sequential()\n",
        "model.add(layers.Conv2D(256, (3, 3), activation='relu',\n",
        "                        input_shape=(224 ,224,  3)))\n",
        "model.add(layers.MaxPooling2D((2, 2)))\n",
        "\n",
        "model.add(layers.SpatialDropout2D(0.1))\n",
        "\n",
        "model.add(layers.Conv2D(256, (4, 4), activation='relu'))\n",
        "model.add(layers.MaxPooling2D((2, 2)))\n",
        "\n",
        "model.add(layers.SpatialDropout2D(0.1))\n",
        "\n",
        "model.add(layers.Conv2D(256, (3, 3), activation='relu'))\n",
        "model.add(layers.MaxPooling2D((2, 2)))\n",
        "\n",
        "model.add(layers.Flatten())\n",
        "model.add(layers.Dense(512, activation='relu'))\n",
        "model.add(layers.Dense(196, activation='softmax'))\n",
        "\n",
        "model.compile(loss='categorical_crossentropy',\n",
        "              optimizer='adam',\n",
        "              metrics=['acc'])"
      ],
      "execution_count": 93,
      "outputs": []
    },
    {
      "cell_type": "markdown",
      "metadata": {
        "id": "xbkXYq6XhIw6"
      },
      "source": [
        "Train Keras Neural Network"
      ]
    },
    {
      "cell_type": "code",
      "metadata": {
        "id": "dh4otN93ROfG",
        "outputId": "b00ad449-8990-400f-b518-0c73b0d9cc43",
        "colab": {
          "base_uri": "https://localhost:8080/"
        }
      },
      "source": [
        "es = EarlyStopping(monitor='val_loss', mode='min', verbose=1, patience=2)\n",
        "history = model.fit(train_images,\n",
        "                    train_labels,\n",
        "                    epochs=20,\n",
        "                    batch_size=32,\n",
        "                    validation_data=(test_images, test_labels),\n",
        "                    callbacks=[es])"
      ],
      "execution_count": 94,
      "outputs": [
        {
          "output_type": "stream",
          "text": [
            "Epoch 1/20\n",
            "160/160 [==============================] - 45s 267ms/step - loss: 113.2184 - acc: 0.0018 - val_loss: 5.2775 - val_acc: 0.0060\n",
            "Epoch 2/20\n",
            "160/160 [==============================] - 41s 257ms/step - loss: 5.2783 - acc: 0.0040 - val_loss: 5.2779 - val_acc: 0.0054\n",
            "Epoch 3/20\n",
            "160/160 [==============================] - 41s 257ms/step - loss: 5.2753 - acc: 0.0107 - val_loss: 5.2737 - val_acc: 0.0087\n",
            "Epoch 4/20\n",
            "160/160 [==============================] - 41s 257ms/step - loss: 5.2111 - acc: 0.0259 - val_loss: 5.3360 - val_acc: 0.0081\n",
            "Epoch 5/20\n",
            "160/160 [==============================] - 41s 257ms/step - loss: 5.0480 - acc: 0.0618 - val_loss: 5.4724 - val_acc: 0.0094\n",
            "Epoch 00005: early stopping\n"
          ],
          "name": "stdout"
        }
      ]
    },
    {
      "cell_type": "markdown",
      "metadata": {
        "id": "CIDH6e6v6iSx"
      },
      "source": [
        "Create DenseNet121 pre-trained transfer learning model"
      ]
    },
    {
      "cell_type": "code",
      "metadata": {
        "id": "TlshJ5LdfQPW"
      },
      "source": [
        "pre_model = DenseNet121(\n",
        "    input_shape=train_images.shape[1:],\n",
        "    include_top=False,\n",
        "    weights=\"imagenet\")\n",
        "pre_model.summary()"
      ],
      "execution_count": null,
      "outputs": []
    },
    {
      "cell_type": "markdown",
      "metadata": {
        "id": "BfgB31SW6pBx"
      },
      "source": [
        "Add trained layers to DenseNet121 pre-trained layers"
      ]
    },
    {
      "cell_type": "code",
      "metadata": {
        "id": "Ngy-t5dV24OR"
      },
      "source": [
        "output = pre_model.output\n",
        "output = layers.GlobalAveragePooling2D()(output)\n",
        "output = layers.Dense(512, activation='relu')(output) \n",
        "output = layers.Dropout(0.0)(output) \n",
        "output = layers.Dense(196, activation='softmax')(output)\n",
        "\n",
        "model=Model(inputs=pre_model.input,outputs=output)"
      ],
      "execution_count": 112,
      "outputs": []
    },
    {
      "cell_type": "markdown",
      "metadata": {
        "id": "l7nKyhT96w-K"
      },
      "source": [
        "Fit DenseNet121 transfer learning model"
      ]
    },
    {
      "cell_type": "code",
      "metadata": {
        "id": "qOCup4NYF8gu",
        "outputId": "2d508d98-9cf7-412c-e375-0def38654959",
        "colab": {
          "base_uri": "https://localhost:8080/"
        }
      },
      "source": [
        "model.compile(optimizer='Adam',loss='categorical_crossentropy',\n",
        "              metrics=['accuracy'])\n",
        "\n",
        "es = EarlyStopping(monitor='val_loss', mode='min', verbose=1, patience=2)\n",
        "history = model.fit(train_images,\n",
        "                    train_labels,\n",
        "                    epochs=20,\n",
        "                    batch_size=16,\n",
        "                    validation_data=(test_images, test_labels),\n",
        "                    callbacks=[es])"
      ],
      "execution_count": 113,
      "outputs": [
        {
          "output_type": "stream",
          "text": [
            "Epoch 1/20\n",
            "320/320 [==============================] - 54s 126ms/step - loss: 5.3588 - accuracy: 0.0067 - val_loss: 5.2775 - val_accuracy: 0.0081\n",
            "Epoch 2/20\n",
            "320/320 [==============================] - 38s 119ms/step - loss: 5.2781 - accuracy: 0.0076 - val_loss: 5.2763 - val_accuracy: 0.0087\n",
            "Epoch 3/20\n",
            "320/320 [==============================] - 38s 119ms/step - loss: 5.2767 - accuracy: 0.0099 - val_loss: 5.2757 - val_accuracy: 0.0087\n",
            "Epoch 4/20\n",
            "320/320 [==============================] - 38s 119ms/step - loss: 5.2761 - accuracy: 0.0077 - val_loss: 5.2753 - val_accuracy: 0.0087\n",
            "Epoch 5/20\n",
            "320/320 [==============================] - 38s 119ms/step - loss: 5.2760 - accuracy: 0.0080 - val_loss: 5.2755 - val_accuracy: 0.0087\n",
            "Epoch 6/20\n",
            "320/320 [==============================] - 38s 119ms/step - loss: 5.2754 - accuracy: 0.0102 - val_loss: 6.1206 - val_accuracy: 0.0020\n",
            "Epoch 00006: early stopping\n"
          ],
          "name": "stdout"
        }
      ]
    },
    {
      "cell_type": "markdown",
      "metadata": {
        "id": "SvW4aQU462du"
      },
      "source": [
        "Generate image data with 299x299 size for use in Xception transfer learning model"
      ]
    },
    {
      "cell_type": "code",
      "metadata": {
        "id": "1FbPS9FGwxL8",
        "outputId": "85857221-35af-42ef-c73c-2f7114e92f59",
        "colab": {
          "base_uri": "https://localhost:8080/"
        }
      },
      "source": [
        "Xception_train_generator = ImageDataGenerator().flow_from_directory(\n",
        "                        train_folder, target_size=(299, 299), batch_size = train_batch_size)\n",
        "\n",
        "Xception_test_generator = ImageDataGenerator().flow_from_directory(\n",
        "                        test_folder, target_size=(299, 299), batch_size = test_batch_size) \n",
        "\n",
        "Xception_val_generator = ImageDataGenerator().flow_from_directory(\n",
        "                        val_folder, target_size=(299, 299), batch_size = val_batch_size) "
      ],
      "execution_count": 48,
      "outputs": [
        {
          "output_type": "stream",
          "text": [
            "Found 5108 images belonging to 196 classes.\n",
            "Found 1490 images belonging to 196 classes.\n",
            "Found 1546 images belonging to 196 classes.\n"
          ],
          "name": "stdout"
        }
      ]
    },
    {
      "cell_type": "markdown",
      "metadata": {
        "id": "WnaLnME37Emd"
      },
      "source": [
        "Split Xception image data into image and label variables"
      ]
    },
    {
      "cell_type": "code",
      "metadata": {
        "id": "UEBi9mD6wxO0"
      },
      "source": [
        "Xception_train_images, Xception_train_labels = next(Xception_train_generator)\n",
        "Xception_test_images, Xception_test_labels = next(Xception_test_generator)\n",
        "Xception_val_images, Xception_val_labels = next(Xception_val_generator)"
      ],
      "execution_count": 49,
      "outputs": []
    },
    {
      "cell_type": "markdown",
      "metadata": {
        "id": "mbKo3wnh7NPj"
      },
      "source": [
        "Create Xception pre-trained transfer learning model"
      ]
    },
    {
      "cell_type": "code",
      "metadata": {
        "id": "pFHQj6wMwxQ-"
      },
      "source": [
        "Xception_pre_model = Xception(\n",
        "    input_shape=(299,299,3),\n",
        "    include_top=False,\n",
        "    weights=\"imagenet\")\n",
        "Xception_pre_model.summary()"
      ],
      "execution_count": null,
      "outputs": []
    },
    {
      "cell_type": "markdown",
      "metadata": {
        "id": "bss3KrHe7ZTm"
      },
      "source": [
        "Add trained layers to Xception pre-trained layers"
      ]
    },
    {
      "cell_type": "code",
      "metadata": {
        "id": "pPIctDDhwxTR"
      },
      "source": [
        "Xception_output = Xception_pre_model.output\n",
        "Xception_output = layers.GlobalAveragePooling2D()(Xception_output)\n",
        "Xception_output = layers.Dense(512, activation='relu')(Xception_output) \n",
        "Xception_output = layers.Dropout(0.275)(Xception_output) \n",
        "Xception_output = layers.Dense(196, activation='softmax')(Xception_output)\n",
        "\n",
        "Xception_model=Model(inputs=Xception_pre_model.input,outputs=Xception_output)"
      ],
      "execution_count": 79,
      "outputs": []
    },
    {
      "cell_type": "markdown",
      "metadata": {
        "id": "I9DEJeXJ7vWE"
      },
      "source": [
        "Fit Xception transfer learning model"
      ]
    },
    {
      "cell_type": "code",
      "metadata": {
        "id": "Xd2tBWs-yBbi",
        "outputId": "68a88d0a-da2f-444c-d1fe-3be774e70253",
        "colab": {
          "base_uri": "https://localhost:8080/"
        }
      },
      "source": [
        "Xception_model.compile(optimizer='Adam',loss='binary_crossentropy',\n",
        "              metrics=['accuracy'])\n",
        "\n",
        "Xception_es = EarlyStopping(monitor='val_loss', mode='min', verbose=1, patience=2)\n",
        "Xception_history = Xception_model.fit(Xception_train_images,\n",
        "                    Xception_train_labels,\n",
        "                    epochs=50,\n",
        "                    batch_size=16,\n",
        "                    validation_data=(Xception_test_images, Xception_test_labels),\n",
        "                    callbacks=[Xception_es])"
      ],
      "execution_count": 81,
      "outputs": [
        {
          "output_type": "stream",
          "text": [
            "Epoch 1/50\n",
            "320/320 [==============================] - 134s 401ms/step - loss: 0.0032 - accuracy: 0.9205 - val_loss: 0.0196 - val_accuracy: 0.4732\n",
            "Epoch 2/50\n",
            "320/320 [==============================] - 127s 398ms/step - loss: 0.0029 - accuracy: 0.9226 - val_loss: 0.0163 - val_accuracy: 0.5369\n",
            "Epoch 3/50\n",
            "320/320 [==============================] - 127s 398ms/step - loss: 0.0030 - accuracy: 0.9254 - val_loss: 0.0143 - val_accuracy: 0.6161\n",
            "Epoch 4/50\n",
            "320/320 [==============================] - 127s 398ms/step - loss: 0.0021 - accuracy: 0.9570 - val_loss: 0.0214 - val_accuracy: 0.5356\n",
            "Epoch 5/50\n",
            "320/320 [==============================] - 127s 398ms/step - loss: 0.0020 - accuracy: 0.9508 - val_loss: 0.0198 - val_accuracy: 0.5490\n",
            "Epoch 00005: early stopping\n"
          ],
          "name": "stdout"
        }
      ]
    },
    {
      "cell_type": "code",
      "metadata": {
        "id": "YpfrMNXoyekj"
      },
      "source": [
        ""
      ],
      "execution_count": null,
      "outputs": []
    }
  ]
}